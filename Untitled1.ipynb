{
 "cells": [
  {
   "cell_type": "code",
   "execution_count": null,
   "metadata": {},
   "outputs": [],
   "source": [
    "#Class 1"
   ]
  },
  {
   "cell_type": "code",
   "execution_count": 5,
   "metadata": {},
   "outputs": [
    {
     "name": "stdout",
     "output_type": "stream",
     "text": [
      "13\n"
     ]
    }
   ],
   "source": [
    "x=3\n",
    "y=10\n",
    "print(x+y)"
   ]
  },
  {
   "cell_type": "code",
   "execution_count": 2,
   "metadata": {},
   "outputs": [
    {
     "name": "stdout",
     "output_type": "stream",
     "text": [
      "34\n"
     ]
    }
   ],
   "source": [
    "a=10\n",
    "b=24\n",
    "c=a+b\n",
    "print(c)"
   ]
  },
  {
   "cell_type": "code",
   "execution_count": 3,
   "metadata": {},
   "outputs": [
    {
     "name": "stdout",
     "output_type": "stream",
     "text": [
      "0\n"
     ]
    }
   ],
   "source": [
    "print((a+b)-c)"
   ]
  },
  {
   "cell_type": "code",
   "execution_count": 50,
   "metadata": {},
   "outputs": [
    {
     "name": "stdout",
     "output_type": "stream",
     "text": [
      "k123k\n"
     ]
    }
   ],
   "source": [
    "FullnamE='k123k'\n",
    "print(FullnamE)"
   ]
  },
  {
   "cell_type": "code",
   "execution_count": 10,
   "metadata": {},
   "outputs": [
    {
     "name": "stdout",
     "output_type": "stream",
     "text": [
      "163abc\n"
     ]
    }
   ],
   "source": [
    "number='163abc'\n",
    "print(number)"
   ]
  },
  {
   "cell_type": "code",
   "execution_count": 11,
   "metadata": {},
   "outputs": [
    {
     "name": "stdout",
     "output_type": "stream",
     "text": [
      "163Abc\n"
     ]
    }
   ],
   "source": [
    "print(number.title())"
   ]
  },
  {
   "cell_type": "code",
   "execution_count": 12,
   "metadata": {},
   "outputs": [
    {
     "name": "stdout",
     "output_type": "stream",
     "text": [
      "163ABC\n"
     ]
    }
   ],
   "source": [
    "print(number.upper())"
   ]
  },
  {
   "cell_type": "code",
   "execution_count": 13,
   "metadata": {},
   "outputs": [
    {
     "name": "stdout",
     "output_type": "stream",
     "text": [
      "163abc\n"
     ]
    }
   ],
   "source": [
    "print(number.lower())"
   ]
  },
  {
   "cell_type": "code",
   "execution_count": null,
   "metadata": {},
   "outputs": [],
   "source": []
  },
  {
   "cell_type": "code",
   "execution_count": 7,
   "metadata": {
    "scrolled": true
   },
   "outputs": [
    {
     "name": "stdout",
     "output_type": "stream",
     "text": [
      "Spandana Koduru\n"
     ]
    }
   ],
   "source": [
    "firstname='spandana'\n",
    "lastname='koduru'\n",
    "fullname=f'{firstname} {lastname}'\n",
    "print(fullname.title())"
   ]
  },
  {
   "cell_type": "code",
   "execution_count": 8,
   "metadata": {},
   "outputs": [
    {
     "name": "stdout",
     "output_type": "stream",
     "text": [
      "SPANDANA KODURU\n"
     ]
    }
   ],
   "source": [
    "firstname='spandana'\n",
    "lastname='koduru'\n",
    "fullname=f'{firstname} {lastname}'\n",
    "print(fullname.upper())"
   ]
  },
  {
   "cell_type": "code",
   "execution_count": 9,
   "metadata": {},
   "outputs": [
    {
     "name": "stdout",
     "output_type": "stream",
     "text": [
      "spandana koduru\n"
     ]
    }
   ],
   "source": [
    "firstname='spandana'\n",
    "lastname='koduru'\n",
    "fullname=f'{firstname} {lastname}'\n",
    "print(fullname.lower())"
   ]
  },
  {
   "cell_type": "code",
   "execution_count": 19,
   "metadata": {},
   "outputs": [
    {
     "name": "stdout",
     "output_type": "stream",
     "text": [
      "spandana\n"
     ]
    }
   ],
   "source": [
    "name1='spandana'\n",
    "print(name1)"
   ]
  },
  {
   "cell_type": "code",
   "execution_count": null,
   "metadata": {},
   "outputs": [],
   "source": [
    "#class 2"
   ]
  },
  {
   "cell_type": "code",
   "execution_count": 30,
   "metadata": {},
   "outputs": [
    {
     "name": "stdout",
     "output_type": "stream",
     "text": [
      "spandana       koduru\n",
      "Spandana       Koduru\n"
     ]
    }
   ],
   "source": [
    "firstname='spandana'\n",
    "lastname='koduru'\n",
    "fullname=f'{firstname}       {lastname}'\n",
    "print(fullname)\n",
    "print(fullname.title())"
   ]
  },
  {
   "cell_type": "code",
   "execution_count": 31,
   "metadata": {},
   "outputs": [
    {
     "name": "stdout",
     "output_type": "stream",
     "text": [
      "Spandana     Nalini\n"
     ]
    }
   ],
   "source": [
    "f_name='spandana'\n",
    "l_name='nalini'\n",
    "complete_name=f'{f_name}     {l_name}'\n",
    "print(complete_name.title())"
   ]
  },
  {
   "cell_type": "code",
   "execution_count": 95,
   "metadata": {},
   "outputs": [
    {
     "name": "stdout",
     "output_type": "stream",
     "text": [
      "VERY HELPFUL TEACHING, Faiyaz\n"
     ]
    }
   ],
   "source": [
    "full_name='faiyaz'\n",
    "note='Very helpful teaching'\n",
    "message=f'{note.upper()}, {full_name.title()}'\n",
    "print(message)\n"
   ]
  },
  {
   "cell_type": "code",
   "execution_count": 96,
   "metadata": {},
   "outputs": [
    {
     "name": "stdout",
     "output_type": "stream",
     "text": [
      "singing dancing playing badminton\n"
     ]
    }
   ],
   "source": [
    "print('singing','dancing','playing badminton')"
   ]
  },
  {
   "cell_type": "code",
   "execution_count": 100,
   "metadata": {},
   "outputs": [
    {
     "name": "stdout",
     "output_type": "stream",
     "text": [
      "\n",
      "singing \n",
      "dancing \n",
      "playing badminton\n"
     ]
    }
   ],
   "source": [
    "print('\\nsinging','\\ndancing', '\\nplaying badminton')"
   ]
  },
  {
   "cell_type": "code",
   "execution_count": 48,
   "metadata": {},
   "outputs": [
    {
     "name": "stdout",
     "output_type": "stream",
     "text": [
      "hobbies: \t\n",
      "singing \t\n",
      "dancing \t\n",
      "playing badminton\n"
     ]
    }
   ],
   "source": [
    "print('hobbies:','\\t\\nsinging','\\t\\ndancing','\\t\\nplaying badminton')"
   ]
  },
  {
   "cell_type": "code",
   "execution_count": null,
   "metadata": {},
   "outputs": [],
   "source": [
    "#class 3"
   ]
  },
  {
   "cell_type": "code",
   "execution_count": 71,
   "metadata": {},
   "outputs": [
    {
     "name": "stdout",
     "output_type": "stream",
     "text": [
      "['spandana', 'aparna', 'eshu', 'rayyag', 'raj']\n"
     ]
    }
   ],
   "source": [
    "friends=['spandana','aparna','eshu','rayyag','raj']\n",
    "print(friends)"
   ]
  },
  {
   "cell_type": "code",
   "execution_count": 73,
   "metadata": {},
   "outputs": [
    {
     "name": "stdout",
     "output_type": "stream",
     "text": [
      "rayyag\n"
     ]
    }
   ],
   "source": [
    "print(friends[3])"
   ]
  },
  {
   "cell_type": "code",
   "execution_count": 75,
   "metadata": {},
   "outputs": [
    {
     "name": "stdout",
     "output_type": "stream",
     "text": [
      "eshu\n"
     ]
    }
   ],
   "source": [
    "print(friends[2])"
   ]
  },
  {
   "cell_type": "code",
   "execution_count": 77,
   "metadata": {},
   "outputs": [],
   "source": [
    "friends[4]='bhaggu'"
   ]
  },
  {
   "cell_type": "code",
   "execution_count": 78,
   "metadata": {},
   "outputs": [
    {
     "name": "stdout",
     "output_type": "stream",
     "text": [
      "['spandana', 'aparna', 'eshu', 'rayyag', 'bhaggu']\n"
     ]
    }
   ],
   "source": [
    "print(friends)"
   ]
  },
  {
   "cell_type": "code",
   "execution_count": 84,
   "metadata": {},
   "outputs": [
    {
     "name": "stdout",
     "output_type": "stream",
     "text": [
      "['spandana', 'aparna', 'eshu', 'rayyag', 'bhaggu', 'raj', 'raj', 'bhanu', 'bhanu', 'bhanu', 'bhanu']\n"
     ]
    }
   ],
   "source": [
    "friends.append('bhanu')\n",
    "print(friends)"
   ]
  },
  {
   "cell_type": "code",
   "execution_count": 85,
   "metadata": {},
   "outputs": [
    {
     "name": "stdout",
     "output_type": "stream",
     "text": [
      "['spandana', 'aparna', 'eshu', 'rayyag', 'bhaggu', 'druti', 'raj', 'raj', 'bhanu', 'bhanu', 'bhanu', 'bhanu']\n"
     ]
    }
   ],
   "source": [
    "friends.insert(5,'druti')\n",
    "print(friends)"
   ]
  },
  {
   "cell_type": "code",
   "execution_count": 88,
   "metadata": {},
   "outputs": [
    {
     "name": "stdout",
     "output_type": "stream",
     "text": [
      "['spandana', 'aparna', 'eshu', 'rayyag', 'bhaggu', 'druti', 'raj', 'bhanu', 'bhanu', 'bhanu', 'bhanu']\n"
     ]
    }
   ],
   "source": [
    "del friends[6]\n",
    "print(friends)"
   ]
  },
  {
   "cell_type": "code",
   "execution_count": 90,
   "metadata": {},
   "outputs": [
    {
     "name": "stdout",
     "output_type": "stream",
     "text": [
      "['spandana', 'aparna', 'eshu', 'rayyag', 'bhaggu', 'druti', 'raj', 'bhanu', 'bhanu', 'bhanu']\n"
     ]
    }
   ],
   "source": [
    "del friends[10]\n",
    "print(friends)"
   ]
  },
  {
   "cell_type": "code",
   "execution_count": 91,
   "metadata": {},
   "outputs": [
    {
     "name": "stdout",
     "output_type": "stream",
     "text": [
      "['spandana', 'aparna', 'eshu', 'rayyag', 'bhaggu', 'druti', 'raj', 'bhanu', 'bhanu']\n"
     ]
    }
   ],
   "source": [
    "friends.pop()\n",
    "'bhanu'\n",
    "print(friends)"
   ]
  },
  {
   "cell_type": "code",
   "execution_count": 92,
   "metadata": {},
   "outputs": [
    {
     "name": "stdout",
     "output_type": "stream",
     "text": [
      "['spandana', 'aparna', 'eshu', 'rayyag', 'bhaggu', 'druti', 'raj', 'bhanu']\n"
     ]
    }
   ],
   "source": [
    "friends.pop(8)\n",
    "'bhanu'\n",
    "print(friends)\n"
   ]
  },
  {
   "cell_type": "code",
   "execution_count": 94,
   "metadata": {},
   "outputs": [
    {
     "name": "stdout",
     "output_type": "stream",
     "text": [
      "Spandana\n"
     ]
    }
   ],
   "source": [
    "print(friends[0].title())"
   ]
  },
  {
   "cell_type": "code",
   "execution_count": null,
   "metadata": {},
   "outputs": [],
   "source": []
  },
  {
   "cell_type": "code",
   "execution_count": null,
   "metadata": {},
   "outputs": [],
   "source": []
  },
  {
   "cell_type": "code",
   "execution_count": null,
   "metadata": {},
   "outputs": [],
   "source": []
  },
  {
   "cell_type": "code",
   "execution_count": null,
   "metadata": {},
   "outputs": [],
   "source": []
  }
 ],
 "metadata": {
  "kernelspec": {
   "display_name": "Python 3",
   "language": "python",
   "name": "python3"
  },
  "language_info": {
   "codemirror_mode": {
    "name": "ipython",
    "version": 3
   },
   "file_extension": ".py",
   "mimetype": "text/x-python",
   "name": "python",
   "nbconvert_exporter": "python",
   "pygments_lexer": "ipython3",
   "version": "3.7.6"
  }
 },
 "nbformat": 4,
 "nbformat_minor": 4
}
